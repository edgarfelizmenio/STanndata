{
 "cells": [
  {
   "cell_type": "markdown",
   "metadata": {},
   "source": [
    "# SpatialLIBD\n",
    "\n",
    "## 1. Download all samples from SpatialLIBD"
   ]
  },
  {
   "cell_type": "code",
   "execution_count": 1,
   "metadata": {
    "vscode": {
     "languageId": "r"
    }
   },
   "outputs": [],
   "source": [
    "library(glue)"
   ]
  },
  {
   "cell_type": "code",
   "execution_count": 2,
   "metadata": {
    "vscode": {
     "languageId": "r"
    }
   },
   "outputs": [
    {
     "name": "stdout",
     "output_type": "stream",
     "text": [
      "[1] \"data/SpatialLIBD/spe.rds\"\n"
     ]
    }
   ],
   "source": [
    "# Prepare directory names\n",
    "main_data_dir_name <- \"data\"\n",
    "dataset_dir_name <- \"SpatialLIBD\"\n",
    "dataset_images_dir_name <- \"images\"\n",
    "dataset_h5ad_dir_name <- \"h5ad\"\n",
    "dataset_dir_path <- file.path(main_data_dir_name, dataset_dir_name)\n",
    "dataset_images_dir_path <- file.path(dataset_dir_path, dataset_images_dir_name)\n",
    "dataset_r_object_name <- \"spe.rds\"\n",
    "dataset_r_object_path <- file.path(dataset_dir_path, dataset_r_object_name)\n",
    "dataset_h5ad_dir_path <- file.path(dataset_dir_path, dataset_h5ad_dir_name)\n",
    "print(dataset_r_object_path)"
   ]
  },
  {
   "cell_type": "code",
   "execution_count": 3,
   "metadata": {
    "vscode": {
     "languageId": "r"
    }
   },
   "outputs": [],
   "source": [
    "# Check if parent data directory and dataset directory exists. If not, create.\n",
    "if (!file.exists(main_data_dir_name))\n",
    "    dir.create(main_data_dir_name)\n",
    "if (!file.exists(dataset_dir_path))\n",
    "    dir.create(dataset_dir_path)"
   ]
  },
  {
   "cell_type": "code",
   "execution_count": 4,
   "metadata": {
    "vscode": {
     "languageId": "r"
    }
   },
   "outputs": [],
   "source": [
    "# If dataset object file does not exist, download the object and save it.\n",
    "if (!file.exists(dataset_dir_path)) {\n",
    "    if (!requireNamespace(\"BiocManager\", quietly = TRUE))\n",
    "        install.packages(\"BiocManager\")\n",
    "\n",
    "    if (!requireNamespace(\"spatialLIBD\", quietly = TRUE))\n",
    "        BiocManager::install(\"spatialLIBD\")\n",
    "\n",
    "    library(\"spatialLIBD\")\n",
    "\n",
    "    # set timeout to 10 minutes because simultaneous download of samples leads to timeout\n",
    "    # default: 60 seconds\n",
    "    options(timeout = 600)\n",
    "\n",
    "    spe <- fetch_data(type = \"spe\")\n",
    "\n",
    "    # set timeout back to default value\n",
    "    options(timeout = 60)\n",
    "\n",
    "    # save object to file\n",
    "    saveRDS(spe, file=dataset_r_object_path)\n",
    "    \n",
    "} else {\n",
    "    spe <- readRDS(dataset_r_object_path)\n",
    "}\n"
   ]
  },
  {
   "cell_type": "code",
   "execution_count": 5,
   "metadata": {
    "vscode": {
     "languageId": "r"
    }
   },
   "outputs": [
    {
     "name": "stderr",
     "output_type": "stream",
     "text": [
      "Loading required package: SpatialExperiment\n",
      "\n",
      "Loading required package: SingleCellExperiment\n",
      "\n",
      "Loading required package: SummarizedExperiment\n",
      "\n",
      "Loading required package: MatrixGenerics\n",
      "\n",
      "Loading required package: matrixStats\n",
      "\n",
      "\n",
      "Attaching package: ‘MatrixGenerics’\n",
      "\n",
      "\n",
      "The following objects are masked from ‘package:matrixStats’:\n",
      "\n",
      "    colAlls, colAnyNAs, colAnys, colAvgsPerRowSet, colCollapse,\n",
      "    colCounts, colCummaxs, colCummins, colCumprods, colCumsums,\n",
      "    colDiffs, colIQRDiffs, colIQRs, colLogSumExps, colMadDiffs,\n",
      "    colMads, colMaxs, colMeans2, colMedians, colMins, colOrderStats,\n",
      "    colProds, colQuantiles, colRanges, colRanks, colSdDiffs, colSds,\n",
      "    colSums2, colTabulates, colVarDiffs, colVars, colWeightedMads,\n",
      "    colWeightedMeans, colWeightedMedians, colWeightedSds,\n",
      "    colWeightedVars, rowAlls, rowAnyNAs, rowAnys, rowAvgsPerColSet,\n",
      "    rowCollapse, rowCounts, rowCummaxs, rowCummins, rowCumprods,\n",
      "    rowCumsums, rowDiffs, rowIQRDiffs, rowIQRs, rowLogSumExps,\n",
      "    rowMadDiffs, rowMads, rowMaxs, rowMeans2, rowMedians, rowMins,\n",
      "    rowOrderStats, rowProds, rowQuantiles, rowRanges, rowRanks,\n",
      "    rowSdDiffs, rowSds, rowSums2, rowTabulates, rowVarDiffs, rowVars,\n",
      "    rowWeightedMads, rowWeightedMeans, rowWeightedMedians,\n",
      "    rowWeightedSds, rowWeightedVars\n",
      "\n",
      "\n",
      "Loading required package: GenomicRanges\n",
      "\n",
      "Loading required package: stats4\n",
      "\n",
      "Loading required package: BiocGenerics\n",
      "\n",
      "\n",
      "Attaching package: ‘BiocGenerics’\n",
      "\n",
      "\n",
      "The following objects are masked from ‘package:stats’:\n",
      "\n",
      "    IQR, mad, sd, var, xtabs\n",
      "\n",
      "\n",
      "The following objects are masked from ‘package:base’:\n",
      "\n",
      "    anyDuplicated, aperm, append, as.data.frame, basename, cbind,\n",
      "    colnames, dirname, do.call, duplicated, eval, evalq, Filter, Find,\n",
      "    get, grep, grepl, intersect, is.unsorted, lapply, Map, mapply,\n",
      "    match, mget, order, paste, pmax, pmax.int, pmin, pmin.int,\n",
      "    Position, rank, rbind, Reduce, rownames, sapply, setdiff, sort,\n",
      "    table, tapply, union, unique, unsplit, which.max, which.min\n",
      "\n",
      "\n",
      "Loading required package: S4Vectors\n",
      "\n",
      "\n",
      "Attaching package: ‘S4Vectors’\n",
      "\n",
      "\n",
      "The following objects are masked from ‘package:base’:\n",
      "\n",
      "    expand.grid, I, unname\n",
      "\n",
      "\n",
      "Loading required package: IRanges\n",
      "\n",
      "\n",
      "Attaching package: ‘IRanges’\n",
      "\n",
      "\n",
      "The following object is masked from ‘package:glue’:\n",
      "\n",
      "    trim\n",
      "\n",
      "\n",
      "Loading required package: GenomeInfoDb\n",
      "\n",
      "Loading required package: Biobase\n",
      "\n",
      "Welcome to Bioconductor\n",
      "\n",
      "    Vignettes contain introductory material; view with\n",
      "    'browseVignettes()'. To cite Bioconductor, see\n",
      "    'citation(\"Biobase\")', and for packages 'citation(\"pkgname\")'.\n",
      "\n",
      "\n",
      "\n",
      "Attaching package: ‘Biobase’\n",
      "\n",
      "\n",
      "The following object is masked from ‘package:MatrixGenerics’:\n",
      "\n",
      "    rowMedians\n",
      "\n",
      "\n",
      "The following objects are masked from ‘package:matrixStats’:\n",
      "\n",
      "    anyMissing, rowMedians\n",
      "\n",
      "\n"
     ]
    },
    {
     "data": {
      "text/plain": [
       "class: SpatialExperiment \n",
       "dim: 33538 47681 \n",
       "metadata(0):\n",
       "assays(2): counts logcounts\n",
       "rownames(33538): ENSG00000243485 ENSG00000237613 ... ENSG00000277475\n",
       "  ENSG00000268674\n",
       "rowData names(9): source type ... gene_search is_top_hvg\n",
       "colnames(47681): AAACAACGAATAGTTC-1 AAACAAGTATCTCCCA-1 ...\n",
       "  TTGTTTCCATACAACT-1 TTGTTTGTGTAAATTC-1\n",
       "colData names(69): sample_id Cluster ... array_row array_col\n",
       "reducedDimNames(6): PCA TSNE_perplexity50 ... TSNE_perplexity80\n",
       "  UMAP_neighbors15\n",
       "mainExpName: NULL\n",
       "altExpNames(0):\n",
       "spatialCoords names(2) : pxl_col_in_fullres pxl_row_in_fullres\n",
       "imgData names(4): sample_id image_id data scaleFactor"
      ]
     },
     "metadata": {},
     "output_type": "display_data"
    }
   ],
   "source": [
    "spe"
   ]
  },
  {
   "cell_type": "code",
   "execution_count": 6,
   "metadata": {
    "vscode": {
     "languageId": "r"
    }
   },
   "outputs": [],
   "source": [
    "sample_ids <- unique(colData(spe)[['sample_id']])"
   ]
  },
  {
   "cell_type": "code",
   "execution_count": 7,
   "metadata": {
    "vscode": {
     "languageId": "r"
    }
   },
   "outputs": [],
   "source": [
    "# Download images if they are not yet available\n",
    "if (!file.exists(dataset_images_dir_path)) {\n",
    "    dir.create(dataset_images_dir_path)\n",
    "    downloadImage <- function(sample_id) {\n",
    "        image_url <- imgSource(samples[[sample_id]])\n",
    "        dest_file <- file.path(dataset_images_dir_path, glue(\"{sample_id}.png\"))\n",
    "        curl::curl_download(\n",
    "            url = image_url, \n",
    "            destfile = dest_file)\n",
    "    }\n",
    "    lapply(sample_ids, downloadImage)\n",
    "}"
   ]
  },
  {
   "cell_type": "code",
   "execution_count": 8,
   "metadata": {
    "vscode": {
     "languageId": "r"
    }
   },
   "outputs": [],
   "source": [
    "# Separate spatial experiment object into samples\n",
    "samples <- lapply(sample_ids, function(sample_id) {\n",
    "    spe[,spe$sample_id == sample_id]\n",
    "})"
   ]
  },
  {
   "cell_type": "code",
   "execution_count": 9,
   "metadata": {
    "vscode": {
     "languageId": "r"
    }
   },
   "outputs": [],
   "source": [
    "# Attach names to samples\n",
    "names(samples) <- sample_ids"
   ]
  },
  {
   "cell_type": "code",
   "execution_count": 16,
   "metadata": {
    "vscode": {
     "languageId": "r"
    }
   },
   "outputs": [
    {
     "data": {
      "text/plain": [
       "class: SpatialExperiment \n",
       "dim: 33538 4226 \n",
       "metadata(0):\n",
       "assays(2): counts logcounts\n",
       "rownames(33538): ENSG00000243485 ENSG00000237613 ... ENSG00000277475\n",
       "  ENSG00000268674\n",
       "rowData names(9): source type ... gene_search is_top_hvg\n",
       "colnames(4226): AAACAACGAATAGTTC-1 AAACAAGTATCTCCCA-1 ...\n",
       "  TTGTTTCCATACAACT-1 TTGTTTGTGTAAATTC-1\n",
       "colData names(69): sample_id Cluster ... array_row array_col\n",
       "reducedDimNames(6): PCA TSNE_perplexity50 ... TSNE_perplexity80\n",
       "  UMAP_neighbors15\n",
       "mainExpName: NULL\n",
       "altExpNames(0):\n",
       "spatialCoords names(2) : pxl_col_in_fullres pxl_row_in_fullres\n",
       "imgData names(4): sample_id image_id data scaleFactor"
      ]
     },
     "metadata": {},
     "output_type": "display_data"
    }
   ],
   "source": [
    "samples[[1]]"
   ]
  },
  {
   "cell_type": "code",
   "execution_count": 10,
   "metadata": {
    "vscode": {
     "languageId": "r"
    }
   },
   "outputs": [],
   "source": [
    "if (!file.exists(dataset_h5ad_dir_path)) {\n",
    "    BiocManager::install(\"zellkonverter\")\n",
    "    \n",
    "    # Next step: save as H5AD files\n",
    "    library(zellkonverter)\n",
    "    library(basilisk)\n",
    "    library(reticulate)\n",
    "        \n",
    "    # attach coordinates of spots before saving as annData\n",
    "    for (sample_id in sample_ids) {\n",
    "        colData(samples[[sample_id]]) <- cbind(colData(samples[[sample_id]]), spatialCoords(samples[[sample_id]]))\n",
    "    }\n",
    "\n",
    "    dir.create(dataset_h5ad_dir_path)\n",
    "\n",
    "    zellkonverterEnvironment <- zellkonverterAnnDataEnv()\n",
    "    \n",
    "    # Function from\n",
    "    # https://github.com/LieberInstitute/spatialDLPFC/blob/14a1f253a92e43c01fec3cc3077a9b2cf9ce9fc0/code/spython/spagcn/code/02-our_data_tutorial/01-spe_to_anndata.R#L28\n",
    "    write_anndata <- function(sce, out_path) {\n",
    "        invisible(basiliskRun(\n",
    "            fun = function(sce, filename) {\n",
    "                # Convert SCE to AnnData:\n",
    "                adata <- SCE2AnnData(sce)\n",
    "\n",
    "                # Write AnnData object to disk\n",
    "                adata$write(filename = filename)\n",
    "            },\n",
    "            env = zellkonverterEnvironment,\n",
    "            sce = sce,\n",
    "            filename = out_path\n",
    "        ))\n",
    "    }\n",
    "\n",
    "    lapply(sample_ids, function (sample_id) {\n",
    "        h5ad_file_path <- file.path(dataset_h5ad_dir_path, glue(\"{sample_id}.h5ad\"))\n",
    "        write_anndata(samples[[sample_id]], h5ad_file_path)\n",
    "    })\n",
    "}"
   ]
  },
  {
   "cell_type": "code",
   "execution_count": 11,
   "metadata": {
    "vscode": {
     "languageId": "r"
    }
   },
   "outputs": [
    {
     "data": {
      "text/plain": [
       "R version 4.2.3 (2023-03-15)\n",
       "Platform: x86_64-conda-linux-gnu (64-bit)\n",
       "Running under: Ubuntu 22.04.3 LTS\n",
       "\n",
       "Matrix products: default\n",
       "BLAS/LAPACK: /home/edgar/miniconda3/envs/STanndata/lib/libopenblasp-r0.3.23.so\n",
       "\n",
       "locale:\n",
       " [1] LC_CTYPE=C.UTF-8       LC_NUMERIC=C           LC_TIME=C.UTF-8       \n",
       " [4] LC_COLLATE=C.UTF-8     LC_MONETARY=C.UTF-8    LC_MESSAGES=C.UTF-8   \n",
       " [7] LC_PAPER=C.UTF-8       LC_NAME=C              LC_ADDRESS=C          \n",
       "[10] LC_TELEPHONE=C         LC_MEASUREMENT=C.UTF-8 LC_IDENTIFICATION=C   \n",
       "\n",
       "attached base packages:\n",
       "[1] stats4    stats     graphics  grDevices utils     datasets  methods  \n",
       "[8] base     \n",
       "\n",
       "other attached packages:\n",
       " [1] SpatialExperiment_1.8.0     SingleCellExperiment_1.20.0\n",
       " [3] SummarizedExperiment_1.28.0 Biobase_2.58.0             \n",
       " [5] GenomicRanges_1.50.0        GenomeInfoDb_1.34.9        \n",
       " [7] IRanges_2.32.0              S4Vectors_0.36.0           \n",
       " [9] BiocGenerics_0.44.0         MatrixGenerics_1.10.0      \n",
       "[11] matrixStats_1.2.0           glue_1.7.0                 \n",
       "\n",
       "loaded via a namespace (and not attached):\n",
       " [1] pbdZMQ_0.3-11             locfit_1.5-9.5           \n",
       " [3] beachmat_2.14.0           repr_1.1.6               \n",
       " [5] HDF5Array_1.26.0          lattice_0.22-5           \n",
       " [7] rhdf5_2.42.0              vctrs_0.6.5              \n",
       " [9] htmltools_0.5.7           base64enc_0.1-3          \n",
       "[11] utf8_1.2.4                rlang_1.1.3              \n",
       "[13] R.oo_1.24.0               pillar_1.9.0             \n",
       "[15] scuttle_1.8.0             R.utils_2.11.0           \n",
       "[17] BiocParallel_1.32.5       dqrng_0.3.2              \n",
       "[19] uuid_1.2-0                GenomeInfoDbData_1.2.9   \n",
       "[21] lifecycle_1.0.4           zlibbioc_1.44.0          \n",
       "[23] R.methodsS3_1.8.1         codetools_0.2-19         \n",
       "[25] evaluate_0.23             fastmap_1.1.1            \n",
       "[27] parallel_4.2.3            fansi_1.0.6              \n",
       "[29] IRdisplay_1.1             Rcpp_1.0.12              \n",
       "[31] edgeR_3.40.0              limma_3.54.0             \n",
       "[33] IRkernel_1.3.2            DelayedArray_0.24.0      \n",
       "[35] magick_2.7.4              jsonlite_1.8.8           \n",
       "[37] XVector_0.38.0            rjson_0.2.21             \n",
       "[39] digest_0.6.34             grid_4.2.3               \n",
       "[41] cli_3.6.2                 tools_4.2.3              \n",
       "[43] bitops_1.0-7              rhdf5filters_1.10.0      \n",
       "[45] magrittr_2.0.3            RCurl_1.98-1.6           \n",
       "[47] crayon_1.5.2              Matrix_1.6-5             \n",
       "[49] DelayedMatrixStats_1.20.0 sparseMatrixStats_1.10.0 \n",
       "[51] Rhdf5lib_1.20.0           DropletUtils_1.18.0      \n",
       "[53] compiler_4.2.3           "
      ]
     },
     "metadata": {},
     "output_type": "display_data"
    }
   ],
   "source": [
    "sessionInfo()"
   ]
  }
 ],
 "metadata": {
  "kernelspec": {
   "display_name": "R",
   "language": "R",
   "name": "ir"
  },
  "language_info": {
   "codemirror_mode": "r",
   "file_extension": ".r",
   "mimetype": "text/x-r-source",
   "name": "R",
   "pygments_lexer": "r",
   "version": "4.2.3"
  }
 },
 "nbformat": 4,
 "nbformat_minor": 2
}
