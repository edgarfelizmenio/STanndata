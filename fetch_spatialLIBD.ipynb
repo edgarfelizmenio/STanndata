{
 "cells": [
  {
   "cell_type": "markdown",
   "metadata": {},
   "source": [
    "# SpatialLIBD\n",
    "\n",
    "## 1. Download all samples from SpatialLIBD"
   ]
  },
  {
   "cell_type": "code",
   "execution_count": 25,
   "metadata": {
    "vscode": {
     "languageId": "r"
    }
   },
   "outputs": [
    {
     "name": "stdout",
     "output_type": "stream",
     "text": [
      "[1] \"data/SpatialLIBD/spe.rds\"\n"
     ]
    }
   ],
   "source": [
    "main_data_dir_name <- \"data\"\n",
    "dataset_dir_name <- \"SpatialLIBD\"\n",
    "dataset_dir_path <- file.path(main_data_dir_name, dataset_dir_name)\n",
    "data_r_object_name <- \"spe.rds\"\n",
    "data_r_object_path <- file.path(dataset_dir_path, data_r_object_name)\n",
    "print(data_r_object_path)"
   ]
  },
  {
   "cell_type": "code",
   "execution_count": 29,
   "metadata": {
    "vscode": {
     "languageId": "r"
    }
   },
   "outputs": [],
   "source": [
    "# Check if parent data directory and dataset directory exists. If not, create.\n",
    "if (!file.exists(main_data_dir_name))\n",
    "    dir.create(main_data_dir_name)\n",
    "if (!file.exists(dataset_dir_path))\n",
    "    dir.create(dataset_dir_path)"
   ]
  },
  {
   "cell_type": "code",
   "execution_count": 4,
   "metadata": {
    "vscode": {
     "languageId": "r"
    }
   },
   "outputs": [
    {
     "name": "stderr",
     "output_type": "stream",
     "text": [
      "'getOption(\"repos\")' replaces Bioconductor standard repositories, see\n",
      "'help(\"repositories\", package = \"BiocManager\")' for details.\n",
      "Replacement repositories:\n",
      "    CRAN: https://cran.r-project.org\n",
      "\n",
      "Bioconductor version 3.16 (BiocManager 1.30.22), R 4.2.3 (2023-03-15)\n",
      "\n",
      "Installing package(s) 'spatialLIBD'\n",
      "\n",
      "Updating HTML index of packages in '.Library'\n",
      "\n",
      "Making 'packages.html' ...\n",
      " done\n",
      "\n",
      "Old packages: 'beachmat', 'BiocFileCache', 'BiocParallel', 'bit', 'blob',\n",
      "  'Cairo', 'DBI', 'dbplyr', 'DropletUtils', 'edgeR', 'filelock', 'formatR',\n",
      "  'GenomicRanges', 'igraph', 'limma', 'locfit', 'magick', 'R.methodsS3',\n",
      "  'R.oo', 'R.utils', 'ragg', 'RcppHNSW', 'RCurl', 'rhdf5', 'rhdf5filters',\n",
      "  'RSQLite', 'S4Vectors', 'scater', 'scuttle', 'SingleCellExperiment',\n",
      "  'SpatialExperiment', 'textshaping', 'vipor', 'viridis'\n",
      "\n"
     ]
    }
   ],
   "source": [
    "# If dataset object file does not exist, download the object and save it.\n",
    "if (!file.exists(dataset_dir_path)) {\n",
    "    if (!requireNamespace(\"BiocManager\", quietly = TRUE))\n",
    "        install.packages(\"BiocManager\")\n",
    "\n",
    "    if (!requireNamespace(\"spatialLIBD\", quietly = TRUE))\n",
    "        BiocManager::install(\"spatialLIBD\")\n",
    "\n",
    "    library(\"spatialLIBD\")\n",
    "\n",
    "    # set timeout to 10 minutes because simultaneous download of samples leads to timeout\n",
    "    # default: 60 seconds\n",
    "    options(timeout = 600)\n",
    "\n",
    "    spe <- fetch_data(type = \"spe\")\n",
    "\n",
    "    # set timeout back to default value\n",
    "    options(timeout = 60)\n",
    "\n",
    "    # save object to file\n",
    "    saveRDS(spe, file=data_r_object_path)\n",
    "} else {\n",
    "    spe <- readRDS(data_r_object_path)\n",
    "}\n"
   ]
  },
  {
   "cell_type": "code",
   "execution_count": 35,
   "metadata": {
    "vscode": {
     "languageId": "r"
    }
   },
   "outputs": [
    {
     "name": "stderr",
     "output_type": "stream",
     "text": [
      "'getOption(\"repos\")' replaces Bioconductor standard repositories, see\n",
      "'help(\"repositories\", package = \"BiocManager\")' for details.\n",
      "Replacement repositories:\n",
      "    CRAN: https://cran.r-project.org\n",
      "\n"
     ]
    },
    {
     "data": {
      "text/html": [
       "TRUE"
      ],
      "text/latex": [
       "TRUE"
      ],
      "text/markdown": [
       "TRUE"
      ],
      "text/plain": [
       "[1] TRUE"
      ]
     },
     "metadata": {},
     "output_type": "display_data"
    }
   ],
   "source": [
    "BiocManager::valid(\"SpatialLIBD\")"
   ]
  },
  {
   "cell_type": "code",
   "execution_count": 11,
   "metadata": {
    "vscode": {
     "languageId": "r"
    }
   },
   "outputs": [
    {
     "data": {
      "text/plain": [
       "R version 4.2.3 (2023-03-15)\n",
       "Platform: x86_64-conda-linux-gnu (64-bit)\n",
       "Running under: Ubuntu 22.04.3 LTS\n",
       "\n",
       "Matrix products: default\n",
       "BLAS/LAPACK: /home/edgar/miniconda3/envs/STanndata/lib/libopenblasp-r0.3.23.so\n",
       "\n",
       "locale:\n",
       " [1] LC_CTYPE=C.UTF-8       LC_NUMERIC=C           LC_TIME=C.UTF-8       \n",
       " [4] LC_COLLATE=C.UTF-8     LC_MONETARY=C.UTF-8    LC_MESSAGES=C.UTF-8   \n",
       " [7] LC_PAPER=C.UTF-8       LC_NAME=C              LC_ADDRESS=C          \n",
       "[10] LC_TELEPHONE=C         LC_MEASUREMENT=C.UTF-8 LC_IDENTIFICATION=C   \n",
       "\n",
       "attached base packages:\n",
       "[1] stats4    stats     graphics  grDevices utils     datasets  methods  \n",
       "[8] base     \n",
       "\n",
       "other attached packages:\n",
       " [1] spatialLIBD_1.10.1          SpatialExperiment_1.8.0    \n",
       " [3] SingleCellExperiment_1.20.0 SummarizedExperiment_1.28.0\n",
       " [5] Biobase_2.58.0              GenomicRanges_1.50.0       \n",
       " [7] GenomeInfoDb_1.34.9         IRanges_2.32.0             \n",
       " [9] S4Vectors_0.36.0            BiocGenerics_0.44.0        \n",
       "[11] MatrixGenerics_1.10.0       matrixStats_1.2.0          \n",
       "\n",
       "loaded via a namespace (and not attached):\n",
       "  [1] uuid_1.2-0                    spam_2.10-0                  \n",
       "  [3] AnnotationHub_3.6.0           BiocFileCache_2.6.0          \n",
       "  [5] repr_1.1.6                    lazyeval_0.2.2               \n",
       "  [7] BiocParallel_1.32.5           ggplot2_3.4.4                \n",
       "  [9] scater_1.26.0                 benchmarkme_1.0.8            \n",
       " [11] digest_0.6.34                 foreach_1.5.2                \n",
       " [13] htmltools_0.5.7               viridis_0.6.2                \n",
       " [15] magick_2.7.4                  fansi_1.0.6                  \n",
       " [17] magrittr_2.0.3                memoise_2.0.1                \n",
       " [19] ScaledMatrix_1.6.0            paletteer_1.6.0              \n",
       " [21] config_0.3.2                  doParallel_1.0.17            \n",
       " [23] limma_3.54.0                  Biostrings_2.66.0            \n",
       " [25] R.utils_2.11.0                colorspace_2.1-0             \n",
       " [27] ggrepel_0.9.5                 blob_1.2.3                   \n",
       " [29] rappdirs_0.3.3                dplyr_1.1.4                  \n",
       " [31] crayon_1.5.2                  RCurl_1.98-1.6               \n",
       " [33] jsonlite_1.8.8                iterators_1.0.14             \n",
       " [35] glue_1.7.0                    gtable_0.3.4                 \n",
       " [37] zlibbioc_1.44.0               XVector_0.38.0               \n",
       " [39] DelayedArray_0.24.0           BiocSingular_1.14.0          \n",
       " [41] DropletUtils_1.18.0           Rhdf5lib_1.20.0              \n",
       " [43] maps_3.4.2                    HDF5Array_1.26.0             \n",
       " [45] scales_1.3.0                  DBI_1.1.2                    \n",
       " [47] edgeR_3.40.0                  Rcpp_1.0.12                  \n",
       " [49] viridisLite_0.4.2             xtable_1.8-4                 \n",
       " [51] dqrng_0.3.2                   rsvd_1.0.5                   \n",
       " [53] bit_4.0.4                     dotCall64_1.1-1              \n",
       " [55] DT_0.31                       htmlwidgets_1.6.4            \n",
       " [57] httr_1.4.7                    RColorBrewer_1.1-3           \n",
       " [59] ellipsis_0.3.2                pkgconfig_2.0.3              \n",
       " [61] XML_3.99-0.16.1               R.methodsS3_1.8.1            \n",
       " [63] scuttle_1.8.0                 sass_0.4.8                   \n",
       " [65] dbplyr_2.1.1                  locfit_1.5-9.5               \n",
       " [67] utf8_1.2.4                    tidyselect_1.2.0             \n",
       " [69] rlang_1.1.3                   later_1.3.2                  \n",
       " [71] AnnotationDbi_1.60.2          munsell_0.5.0                \n",
       " [73] BiocVersion_3.16.0            tools_4.2.3                  \n",
       " [75] cachem_1.0.8                  cli_3.6.2                    \n",
       " [77] generics_0.1.3                RSQLite_2.2.14               \n",
       " [79] ExperimentHub_2.6.0           stringr_1.5.1                \n",
       " [81] evaluate_0.23                 fastmap_1.1.1                \n",
       " [83] yaml_2.3.8                    rematch2_2.1.2               \n",
       " [85] bit64_4.0.5                   purrr_1.0.2                  \n",
       " [87] KEGGREST_1.38.0               sparseMatrixStats_1.10.0     \n",
       " [89] mime_0.12                     R.oo_1.24.0                  \n",
       " [91] rstudioapi_0.15.0             compiler_4.2.3               \n",
       " [93] beeswarm_0.4.0                plotly_4.10.4                \n",
       " [95] filelock_1.0.2                curl_5.2.0                   \n",
       " [97] png_0.1-8                     interactiveDisplayBase_1.36.0\n",
       " [99] statmod_1.5.0                 tibble_3.2.1                 \n",
       "[101] stringi_1.8.3                 bslib_0.6.1                  \n",
       "[103] fields_15.2                   lattice_0.22-5               \n",
       "[105] IRdisplay_1.1                 Matrix_1.6-5                 \n",
       "[107] vctrs_0.6.5                   pillar_1.9.0                 \n",
       "[109] lifecycle_1.0.4               rhdf5filters_1.10.0          \n",
       "[111] BiocManager_1.30.22           jquerylib_0.1.4              \n",
       "[113] BiocNeighbors_1.16.0          irlba_2.3.5.1                \n",
       "[115] data.table_1.15.0             cowplot_1.1.3                \n",
       "[117] bitops_1.0-7                  httpuv_1.6.14                \n",
       "[119] rtracklayer_1.58.0            R6_2.5.1                     \n",
       "[121] BiocIO_1.8.0                  promises_1.2.1               \n",
       "[123] gridExtra_2.3                 vipor_0.4.5                  \n",
       "[125] sessioninfo_1.2.2             codetools_0.2-19             \n",
       "[127] benchmarkmeData_1.0.4         assertthat_0.2.1             \n",
       "[129] golem_0.4.1                   rhdf5_2.42.0                 \n",
       "[131] rjson_0.2.21                  withr_3.0.0                  \n",
       "[133] shinyWidgets_0.8.1            GenomicAlignments_1.34.1     \n",
       "[135] Rsamtools_2.14.0              GenomeInfoDbData_1.2.9       \n",
       "[137] parallel_4.2.3                grid_4.2.3                   \n",
       "[139] beachmat_2.14.0               IRkernel_1.3.2               \n",
       "[141] tidyr_1.3.1                   attempt_0.3.1                \n",
       "[143] DelayedMatrixStats_1.20.0     pbdZMQ_0.3-11                \n",
       "[145] shiny_1.8.0                   base64enc_0.1-3              \n",
       "[147] ggbeeswarm_0.7.2              restfulr_0.0.15              "
      ]
     },
     "metadata": {},
     "output_type": "display_data"
    }
   ],
   "source": [
    "sessionInfo()"
   ]
  }
 ],
 "metadata": {
  "kernelspec": {
   "display_name": "R",
   "language": "R",
   "name": "ir"
  },
  "language_info": {
   "codemirror_mode": "r",
   "file_extension": ".r",
   "mimetype": "text/x-r-source",
   "name": "R",
   "pygments_lexer": "r",
   "version": "4.2.3"
  }
 },
 "nbformat": 4,
 "nbformat_minor": 2
}
